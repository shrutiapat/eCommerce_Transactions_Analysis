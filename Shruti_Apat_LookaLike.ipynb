{
  "nbformat": 4,
  "nbformat_minor": 0,
  "metadata": {
    "colab": {
      "provenance": []
    },
    "kernelspec": {
      "name": "python3",
      "display_name": "Python 3"
    },
    "language_info": {
      "name": "python"
    }
  },
  "cells": [
    {
      "cell_type": "code",
      "execution_count": 1,
      "metadata": {
        "id": "ZNP0dykSo5uz"
      },
      "outputs": [],
      "source": [
        "import pandas as pd\n",
        "from sklearn.metrics.pairwise import cosine_similarity\n",
        "from sklearn.preprocessing import StandardScaler\n",
        "from sklearn.cluster import KMeans\n",
        "import numpy as np"
      ]
    },
    {
      "cell_type": "markdown",
      "source": [
        "**Load Data**"
      ],
      "metadata": {
        "id": "mVjmJQhfVaMj"
      }
    },
    {
      "cell_type": "code",
      "source": [
        "customers_df = pd.read_csv('/content/Customers.csv')\n",
        "products_df = pd.read_csv('/content/Products.csv')\n",
        "transactions_df = pd.read_csv('/content/Transactions.csv')"
      ],
      "metadata": {
        "id": "gww9OUcXVeCT"
      },
      "execution_count": 3,
      "outputs": []
    },
    {
      "cell_type": "markdown",
      "source": [
        "**Merge Data**"
      ],
      "metadata": {
        "id": "etO0QwGqVg3o"
      }
    },
    {
      "cell_type": "code",
      "source": [
        "merged_df = transactions_df.merge(customers_df, on='CustomerID', how='left') \\\n",
        "                           .merge(products_df, on='ProductID', how='left')"
      ],
      "metadata": {
        "id": "dm8JtXhqVkPQ"
      },
      "execution_count": 4,
      "outputs": []
    },
    {
      "cell_type": "markdown",
      "source": [
        "**Feature Engineering: Customer transaction behavior**"
      ],
      "metadata": {
        "id": "EJuO9x2oWRFC"
      }
    },
    {
      "cell_type": "code",
      "source": [
        "if not merged_df.empty:\n",
        "    customer_features = merged_df.groupby('CustomerID').agg({\n",
        "        'ProductID': 'nunique',  # Unique products bought\n",
        "        'TotalValue': 'sum',      # Total spending\n",
        "        'Quantity': 'sum',        # Total quantity purchased\n",
        "        'Region': 'first',        # Region (for simplicity, we take first)\n",
        "        'TransactionDate': 'count' # Number of transactions\n",
        "    }).reset_index()\n",
        "\n",
        "    # Encoding Region as a numerical feature\n",
        "    if 'Region' in customer_features.columns:\n",
        "        customer_features['Region'] = customer_features['Region'].astype('category').cat.codes\n",
        "\n",
        "    # Normalize the data for similarity calculation\n",
        "    scaler = StandardScaler()\n",
        "    normalized_features = scaler.fit_transform(customer_features[['ProductID', 'TotalValue', 'Quantity', 'Region', 'TransactionDate']])\n",
        "\n",
        "    # Clustering: Use KMeans to segment customers\n",
        "    kmeans = KMeans(n_clusters=5, n_init=10, random_state=42)\n",
        "    customer_features['Cluster'] = kmeans.fit_predict(normalized_features)\n",
        "\n",
        "    # Compute similarity using Cosine for categorical and Euclidean for continuous features\n",
        "    cosine_sim = cosine_similarity(normalized_features)\n",
        "\n",
        "    # Function to calculate Euclidean Distance (normalized) between customers based on continuous features\n",
        "    def euclidean_distance(v1, v2):\n",
        "        return np.sqrt(np.sum((v1 - v2) ** 2))\n",
        "\n",
        "    # Get top 3 lookalikes for the first 20 customers\n",
        "    lookalike_dict = {}\n",
        "    for customer_idx in range(min(20, len(customer_features))):\n",
        "        customer_id = customer_features.iloc[customer_idx]['CustomerID']\n",
        "\n",
        "        # Get similarity scores from the same cluster\n",
        "        cluster_id = customer_features.iloc[customer_idx]['Cluster']\n",
        "        cluster_customers = customer_features[customer_features['Cluster'] == cluster_id]\n",
        "\n",
        "        # Get similarity scores based on both cosine similarity and Euclidean distance\n",
        "        similarity_scores = cosine_sim[customer_idx]\n",
        "        customer_data = customer_features.iloc[customer_idx][['ProductID', 'TotalValue', 'Quantity', 'Region', 'TransactionDate']].values\n",
        "\n",
        "        euclidean_distances = np.array([euclidean_distance(customer_data, customer_features.iloc[idx][['ProductID', 'TotalValue', 'Quantity', 'Region', 'TransactionDate']].values)\n",
        "                                        for idx in range(len(customer_features))])\n",
        "\n",
        "        # Combine cosine similarity and Euclidean distance (higher weight to cosine similarity)\n",
        "        combined_similarity = 0.7 * similarity_scores + 0.3 * (1 - euclidean_distances / np.max(euclidean_distances))\n",
        "\n",
        "        # Get top 3 most similar customers (excluding the customer themselves)\n",
        "        similar_customers = np.argsort(combined_similarity)[::-1][1:4]\n",
        "        similar_customer_ids = customer_features.iloc[similar_customers]['CustomerID'].values\n",
        "        similarity_scores_top_3 = combined_similarity[similar_customers]\n",
        "\n",
        "        # Store the results in the dictionary\n",
        "        lookalike_dict[customer_id] = {\n",
        "            'Lookalike1': similar_customer_ids[0],\n",
        "            'Score1': similarity_scores_top_3[0],\n",
        "            'Lookalike2': similar_customer_ids[1],\n",
        "            'Score2': similarity_scores_top_3[1],\n",
        "            'Lookalike3': similar_customer_ids[2],\n",
        "            'Score3': similarity_scores_top_3[2]\n",
        "        }\n",
        "\n",
        "    # Convert lookalike_dict to DataFrame\n",
        "    lookalike_df = pd.DataFrame.from_dict(lookalike_dict, orient='index')\n",
        "\n",
        "    # Save the lookalike map to CSV\n",
        "    lookalike_df.to_csv('Lookalike.csv')\n",
        "\n",
        "    print(\"Lookalike model created and saved to 'Lookalike.csv'\")\n",
        "else:\n",
        "    print(\"Merged dataset is empty. Please check the input CSV files.\")\n"
      ],
      "metadata": {
        "colab": {
          "base_uri": "https://localhost:8080/"
        },
        "id": "TG03GOKcWWiJ",
        "outputId": "d9c553da-bd43-4d5f-fdd4-5e6523d7a2e1"
      },
      "execution_count": 6,
      "outputs": [
        {
          "output_type": "stream",
          "name": "stdout",
          "text": [
            "Lookalike model created and saved to 'Lookalike.csv'\n"
          ]
        }
      ]
    }
  ]
}